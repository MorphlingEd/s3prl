{
 "cells": [
  {
   "cell_type": "code",
   "execution_count": 2,
   "metadata": {},
   "outputs": [
    {
     "name": "stderr",
     "output_type": "stream",
     "text": [
      "/home/s1973609/miniconda3/envs/EXPR/lib/python3.10/site-packages/tqdm/auto.py:22: TqdmWarning: IProgress not found. Please update jupyter and ipywidgets. See https://ipywidgets.readthedocs.io/en/stable/user_install.html\n",
      "  from .autonotebook import tqdm as notebook_tqdm\n"
     ]
    }
   ],
   "source": [
    "# import torch\n",
    "# import yaml\n",
    "# import os\n",
    "\n",
    "# ckpt_dir = '/home/s1973609/repos/s3prl/s3prl/hubModels/'\n",
    "# ckpt_file = os.path.join(ckpt_dir, 'distilhubert_official.ckpt')\n",
    "# all_states = torch.load(ckpt_file, map_location='cpu')\n",
    "\n",
    "# yaml_out_path = os.path.join(ckpt_dir, 'distiller_sample_config.yaml')\n",
    "# with open(yaml_out_path, 'w') as f:\n",
    "#     yaml.dump(all_states['Config']['distiller'], f)"
   ]
  },
  {
   "attachments": {},
   "cell_type": "markdown",
   "metadata": {},
   "source": [
    "---------------------"
   ]
  },
  {
   "cell_type": "code",
   "execution_count": 1,
   "metadata": {},
   "outputs": [
    {
     "name": "stderr",
     "output_type": "stream",
     "text": [
      "/home/s1973609/miniconda3/envs/EXPR/lib/python3.10/site-packages/tqdm/auto.py:22: TqdmWarning: IProgress not found. Please update jupyter and ipywidgets. See https://ipywidgets.readthedocs.io/en/stable/user_install.html\n",
      "  from .autonotebook import tqdm as notebook_tqdm\n"
     ]
    }
   ],
   "source": [
    "import os\n",
    "from sys import getsizeof\n",
    "import yaml\n",
    "import numpy as np\n",
    "import matplotlib\n",
    "import matplotlib.pyplot as plt\n",
    "matplotlib.use('Agg')\n",
    "\n",
    "import torch\n",
    "from torch.utils.data import DataLoader\n",
    "from torch.nn.utils.rnn import pad_sequence"
   ]
  },
  {
   "cell_type": "code",
   "execution_count": 2,
   "metadata": {},
   "outputs": [],
   "source": [
    "from pretrain.attnDistiller.dataset import OnlineWaveDataset\n",
    "\n",
    "from upstream.attnDistiller.model import DistillerModel, DistillerConfig\n",
    "from upstream.attnDistiller.expert import UpstreamExpert as DistilExpert\n",
    "\n",
    "from upstream.attnHuBERT.convert import load_converted_model\n",
    "from upstream.attnHuBERT.expert import UpstreamExpert as HuBERTExpert"
   ]
  },
  {
   "cell_type": "code",
   "execution_count": 3,
   "metadata": {},
   "outputs": [],
   "source": [
    "# device = 'cuda'\n",
    "\n",
    "model_dir = '/home/s1973609/repos/s3prl/s3prl/hubModels/'\n",
    "dataPath = '/home/s1973609/librispeech/LibriSpeechLocal'\n",
    "upstreamConfigFile = 'pretrain/attnDistiller/config_model.yaml'"
   ]
  },
  {
   "cell_type": "code",
   "execution_count": 4,
   "metadata": {},
   "outputs": [
    {
     "name": "stdout",
     "output_type": "stream",
     "text": [
      "-------------- Loading Data ------------------------------\n",
      "[Dataset] - Sampling random segments for training, sample length: 250000\n",
      "[Dataset] - Training data from these sets: ['train-clean-100']\n",
      "[Dataset] - Number of individual training instances: 111\n",
      "Sample batch Loaded!\n",
      "Shapes of elements in the sample batch:\n",
      "torch.Size([1, 250000])\n",
      "torch.Size([250000])\n",
      "torch.Size([1])\n",
      "torch.Size([1, 250000])\n"
     ]
    }
   ],
   "source": [
    "print(\"-------------- Loading Data ------------------------------\")\n",
    "dataset = OnlineWaveDataset(\n",
    "    task_config={'sequence_length':250000},\n",
    "    bucket_size=1,\n",
    "    file_path=dataPath,\n",
    "    libri_root=dataPath,\n",
    "    sets=['train-clean-100'],\n",
    "    target_level=None,\n",
    ")\n",
    "\n",
    "dataloader = DataLoader(\n",
    "    dataset,\n",
    "    batch_size=1,  # for bucketing\n",
    "    shuffle=False,\n",
    "    num_workers=4,\n",
    "    drop_last=False,\n",
    "    pin_memory=True,\n",
    "    collate_fn=dataset.collate_fn,\n",
    ")\n",
    "\n",
    "sample_batch = None\n",
    "for i, batch in enumerate(dataloader):\n",
    "    if i == 5:\n",
    "        sample_batch = batch\n",
    "        break\n",
    "print(\"Sample batch Loaded!\")\n",
    "\n",
    "\n",
    "wave_input, wave_orig, wave_len, pad_mask = sample_batch\n",
    "# wave_input = wave_input.to(device)\n",
    "# wave_len   = wave_len.to(device)\n",
    "# pad_mask   = pad_mask.type(wave_input.dtype).to(device)\n",
    "\n",
    "# wave_input - tensor with shape (batch_size, seq_len)\n",
    "# wave_orig  - list of tensors, with length = batch_size and each tensor being (seq_len)\n",
    "# wave_len   - tensor with shape (batch_size), each element being length\n",
    "# pad_mask   - tensor with shape (batch_size, seq_len), each element being 1 or 0 (masks)\n",
    "print(\"Shapes of elements in the sample batch:\")\n",
    "print(wave_input.size())\n",
    "print(wave_orig[0].size())\n",
    "print(wave_len.size())\n",
    "print(pad_mask.size())"
   ]
  },
  {
   "cell_type": "code",
   "execution_count": 5,
   "metadata": {},
   "outputs": [
    {
     "name": "stdout",
     "output_type": "stream",
     "text": [
      "-------------- Loading Distiller -------------------------\n",
      "[DistillerModel] - Expands the output dimension by 2 times\n",
      "[DistillerModel] - Pred layers: [4, 12]\n",
      "[TransformerEncoder] - Attention type = original\n",
      "[DistillerModel] - Out layer type: expand-last\n",
      "[DistillerModel] - Inter dim = 768\n"
     ]
    }
   ],
   "source": [
    "print(\"-------------- Loading Distiller -------------------------\")\n",
    "distillerConfig = yaml.load(\n",
    "                open(upstreamConfigFile, \"r\"), Loader=yaml.FullLoader\n",
    "            )\n",
    "modelConfig = DistillerConfig(distillerConfig['distiller'])\n",
    "distiller = DistillerModel(modelConfig)"
   ]
  },
  {
   "cell_type": "code",
   "execution_count": 6,
   "metadata": {},
   "outputs": [
    {
     "name": "stdout",
     "output_type": "stream",
     "text": [
      "-------------- Feeding Data to Distiller ---------------------------\n"
     ]
    },
    {
     "ename": "NameError",
     "evalue": "name 'attn_selected' is not defined",
     "output_type": "error",
     "traceback": [
      "\u001b[0;31m---------------------------------------------------------------------------\u001b[0m",
      "\u001b[0;31mNameError\u001b[0m                                 Traceback (most recent call last)",
      "Cell \u001b[0;32mIn[6], line 5\u001b[0m\n\u001b[1;32m      1\u001b[0m \u001b[39mprint\u001b[39m(\u001b[39m\"\u001b[39m\u001b[39m-------------- Feeding Data to Distiller ---------------------------\u001b[39m\u001b[39m\"\u001b[39m)\n\u001b[1;32m      2\u001b[0m \u001b[39mwith\u001b[39;00m torch\u001b[39m.\u001b[39mno_grad():\n\u001b[1;32m      3\u001b[0m     feat, feat_final, pred, pad_mask, attnMapsDistiller \u001b[39m=\u001b[39m distiller(wave_input, \n\u001b[1;32m      4\u001b[0m                                                 pad_mask,\n\u001b[0;32m----> 5\u001b[0m                                                 attn_selected\u001b[39m=\u001b[39mattn_selected)\n",
      "\u001b[0;31mNameError\u001b[0m: name 'attn_selected' is not defined"
     ]
    }
   ],
   "source": [
    "print(\"-------------- Feeding Data to Distiller ---------------------------\")\n",
    "attn_selected_student = [1, 2]\n",
    "with torch.no_grad():\n",
    "    feat, feat_final, pred, pad_mask, attnMapsDistiller = distiller(wave_input, \n",
    "                                                pad_mask,\n",
    "                                                attn_selected=attn_selected_student)"
   ]
  },
  {
   "cell_type": "code",
   "execution_count": 24,
   "metadata": {},
   "outputs": [
    {
     "data": {
      "text/plain": [
       "torch.Size([1, 781, 768])"
      ]
     },
     "execution_count": 24,
     "metadata": {},
     "output_type": "execute_result"
    }
   ],
   "source": []
  },
  {
   "cell_type": "code",
   "execution_count": null,
   "metadata": {},
   "outputs": [],
   "source": []
  }
 ],
 "metadata": {
  "kernelspec": {
   "display_name": "EXPR",
   "language": "python",
   "name": "python3"
  },
  "language_info": {
   "codemirror_mode": {
    "name": "ipython",
    "version": 3
   },
   "file_extension": ".py",
   "mimetype": "text/x-python",
   "name": "python",
   "nbconvert_exporter": "python",
   "pygments_lexer": "ipython3",
   "version": "3.10.4"
  },
  "orig_nbformat": 4,
  "vscode": {
   "interpreter": {
    "hash": "4001c6ca2545607ef1f4147526a5df97523d19b65c66835306b072bc8978be13"
   }
  }
 },
 "nbformat": 4,
 "nbformat_minor": 2
}
